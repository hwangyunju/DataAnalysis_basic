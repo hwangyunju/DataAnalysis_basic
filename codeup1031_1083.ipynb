{
 "cells": [
  {
   "cell_type": "code",
   "execution_count": 2,
   "metadata": {},
   "outputs": [
    {
     "name": "stdout",
     "output_type": "stream",
     "text": [
      "0b1010\n"
     ]
    }
   ],
   "source": [
    "# 1031~ 1033\n",
    "value = 10\n",
    "print(bin(value))"
   ]
  },
  {
   "cell_type": "code",
   "execution_count": 35,
   "metadata": {},
   "outputs": [
    {
     "name": "stdout",
     "output_type": "stream",
     "text": [
      "A\n",
      "12\n"
     ]
    }
   ],
   "source": [
    "# 1034, 35\n",
    "data = int(input(),16)\n",
    "#x = oct(data)\n",
    "x = \"{0:o}\".format(data)\n",
    "print(x)"
   ]
  },
  {
   "cell_type": "code",
   "execution_count": 39,
   "metadata": {},
   "outputs": [
    {
     "name": "stdout",
     "output_type": "stream",
     "text": [
      "A\n",
      "65\n"
     ]
    }
   ],
   "source": [
    "# 1036-1\n",
    "data = input()\n",
    "print(ord(data))"
   ]
  },
  {
   "cell_type": "code",
   "execution_count": 47,
   "metadata": {},
   "outputs": [
    {
     "name": "stdout",
     "output_type": "stream",
     "text": [
      "65\n",
      "A\n"
     ]
    }
   ],
   "source": [
    "# 1036-2\n",
    "data = input()\n",
    "print(chr(int(data)))"
   ]
  },
  {
   "cell_type": "code",
   "execution_count": 45,
   "metadata": {},
   "outputs": [
    {
     "name": "stdout",
     "output_type": "stream",
     "text": [
      "A\n"
     ]
    }
   ],
   "source": [
    "# exercise\n",
    "print(chr(65))"
   ]
  },
  {
   "cell_type": "code",
   "execution_count": 53,
   "metadata": {},
   "outputs": [
    {
     "name": "stdout",
     "output_type": "stream",
     "text": [
      "12343 125235\n",
      "137578\n"
     ]
    }
   ],
   "source": [
    "# 1039\n",
    "a,b = input().split() \n",
    "a = float(a)\n",
    "b = float(b)\n",
    "print (int(a+b))\n"
   ]
  },
  {
   "cell_type": "code",
   "execution_count": 55,
   "metadata": {},
   "outputs": [
    {
     "name": "stdout",
     "output_type": "stream",
     "text": [
      "3\n",
      "-3\n"
     ]
    }
   ],
   "source": [
    "# 1040\n",
    "a = input()\n",
    "a = int(a)\n",
    "print (a*(-1))"
   ]
  },
  {
   "cell_type": "code",
   "execution_count": 11,
   "metadata": {
    "scrolled": true
   },
   "outputs": [
    {
     "name": "stdout",
     "output_type": "stream",
     "text": [
      "A\n",
      "B\n"
     ]
    }
   ],
   "source": [
    "# 1041 문자 1개 입력받아 다음 문자 출력\n",
    "#data = input()\n",
    "#print(chr(ord(data)+1))\n",
    "data = ord(input())+1\n",
    "print (chr(data))"
   ]
  },
  {
   "cell_type": "code",
   "execution_count": 7,
   "metadata": {},
   "outputs": [
    {
     "name": "stdout",
     "output_type": "stream",
     "text": [
      "1 3\n",
      "0\n"
     ]
    }
   ],
   "source": [
    "# 1042 정수 2개 입력받아 나눈 몫 출력\n",
    "a , b = input().split()\n",
    "a = int(a)\n",
    "b = int(b)\n",
    "print(int(a/b))"
   ]
  },
  {
   "cell_type": "code",
   "execution_count": 8,
   "metadata": {},
   "outputs": [
    {
     "name": "stdout",
     "output_type": "stream",
     "text": [
      "10 3\n",
      "1\n"
     ]
    }
   ],
   "source": [
    "# 1043 정수 2개를 입력받아 나눈 나머지 출력하기\n",
    "a, b = input().split()\n",
    "a = int(a)\n",
    "b = int(b)\n",
    "print(int(a%b))"
   ]
  },
  {
   "cell_type": "code",
   "execution_count": 2,
   "metadata": {},
   "outputs": [
    {
     "name": "stdout",
     "output_type": "stream",
     "text": [
      "2147483647\n",
      "2147483648\n"
     ]
    }
   ],
   "source": [
    "# 1044 정수 1개 입력받아 1 더해 출력하기\n",
    "data = input()\n",
    "data = int(data)\n",
    "print(data+1)"
   ]
  },
  {
   "cell_type": "code",
   "execution_count": 10,
   "metadata": {},
   "outputs": [
    {
     "name": "stdout",
     "output_type": "stream",
     "text": [
      "1 1\n",
      "2\n",
      "0\n",
      "1\n",
      "1\n",
      "1.00\n"
     ]
    }
   ],
   "source": [
    "# 1045 정수 2개 입력받아 자동 계산하기\n",
    "a, b = input().split()\n",
    "a = int(a)\n",
    "b = int(b)\n",
    "print(a+b)\n",
    "print(a-b)\n",
    "print(a*b)\n",
    "print(int(a/b))\n",
    "c = a/b\n",
    "print('%.2f' %c)"
   ]
  },
  {
   "cell_type": "code",
   "execution_count": 15,
   "metadata": {},
   "outputs": [
    {
     "name": "stdout",
     "output_type": "stream",
     "text": [
      "76 15 15\n",
      "106\n",
      "35.3\n"
     ]
    }
   ],
   "source": [
    "# 1046 정수 3개 입력받아 합과 평균 출력하기\n",
    "a,b,c = input().split()\n",
    "a = int(a)\n",
    "b = int(b)\n",
    "c = int(c)\n",
    "print(a+b+c)\n",
    "d = [a,b,c]\n",
    "average = sum(d)/len(d)\n",
    "print(\"%.1f\" %average)\n",
    "#[]대신 {}를 사용하면 중복 제거가 되어 같은 수가 들어가면 한번만 인식"
   ]
  },
  {
   "cell_type": "code",
   "execution_count": 2,
   "metadata": {
    "scrolled": true
   },
   "outputs": [
    {
     "name": "stdout",
     "output_type": "stream",
     "text": [
      "1024\n",
      "2048\n"
     ]
    }
   ],
   "source": [
    "# 1047 정수 1개 입력받아 2배 곱해 출력하기\n",
    "data = input()\n",
    "data = int(data)\n",
    "print ( data <<1 )"
   ]
  },
  {
   "cell_type": "code",
   "execution_count": null,
   "metadata": {},
   "outputs": [],
   "source": [
    "# 1048 한번에 2의 거듭제곱 배로 출력하기\n",
    "a,b = input().split()\n",
    "a = int(a)\n",
    "b = int(b)\n",
    "print (a << b)"
   ]
  },
  {
   "cell_type": "code",
   "execution_count": 5,
   "metadata": {},
   "outputs": [
    {
     "name": "stdout",
     "output_type": "stream",
     "text": [
      "0 -1\n",
      "1\n"
     ]
    }
   ],
   "source": [
    "# 1049 두 정수 입력받아 비교하기\n",
    "a,b = map(int, input().split())\n",
    "print(int(a>b))\n",
    "\n",
    "#1050\n",
    "#print(int(a==b))\n",
    "\n",
    "#1051\n",
    "#print(int(a<=b))\n",
    "\n",
    "#1052\n",
    "#print(int(a!=b))"
   ]
  },
  {
   "cell_type": "code",
   "execution_count": 2,
   "metadata": {},
   "outputs": [
    {
     "name": "stdout",
     "output_type": "stream",
     "text": [
      "5\n",
      "0\n"
     ]
    }
   ],
   "source": [
    "# 1053\n",
    "print(int(not int(input())))"
   ]
  },
  {
   "cell_type": "code",
   "execution_count": 5,
   "metadata": {},
   "outputs": [
    {
     "ename": "SyntaxError",
     "evalue": "invalid syntax (<ipython-input-5-4872662c2ea5>, line 9)",
     "output_type": "error",
     "traceback": [
      "\u001b[0;36m  File \u001b[0;32m\"<ipython-input-5-4872662c2ea5>\"\u001b[0;36m, line \u001b[0;32m9\u001b[0m\n\u001b[0;31m    print(int((a&!b)|(!a&b)))\u001b[0m\n\u001b[0m                 ^\u001b[0m\n\u001b[0;31mSyntaxError\u001b[0m\u001b[0;31m:\u001b[0m invalid syntax\n"
     ]
    }
   ],
   "source": [
    "# 1054\n",
    "a,b = map(int, input().split())\n",
    "print(int (a&b))\n",
    "\n",
    "# 1055\n",
    "print(int (a|b))\n",
    "\n",
    "# 1056\n",
    "#print(int((a^b))"
   ]
  },
  {
   "cell_type": "code",
   "execution_count": 4,
   "metadata": {},
   "outputs": [
    {
     "name": "stdout",
     "output_type": "stream",
     "text": [
      "0 0\n",
      "1\n"
     ]
    }
   ],
   "source": [
    "# 1057\n",
    "a,b = map(int, input().split())\n",
    "print(int(not int(a^b)))"
   ]
  },
  {
   "cell_type": "code",
   "execution_count": null,
   "metadata": {},
   "outputs": [],
   "source": [
    "# 1058\n",
    "a,b = map(int, input().split())\n",
    "print(int(not int(a|b)))"
   ]
  },
  {
   "cell_type": "code",
   "execution_count": 6,
   "metadata": {},
   "outputs": [
    {
     "name": "stdout",
     "output_type": "stream",
     "text": [
      "2\n",
      "-3\n"
     ]
    }
   ],
   "source": [
    "# 1059 ~ 1062\n",
    "a = input()\n",
    "a = int(a)\n",
    "print(~a)"
   ]
  },
  {
   "cell_type": "code",
   "execution_count": 1,
   "metadata": {},
   "outputs": [
    {
     "name": "stdout",
     "output_type": "stream",
     "text": [
      "123 456\n",
      "456\n"
     ]
    }
   ],
   "source": [
    "# 1063\n",
    "a,b = map(int, input().split())\n",
    "print(a) if (a>b) else print(b)"
   ]
  },
  {
   "cell_type": "code",
   "execution_count": 2,
   "metadata": {},
   "outputs": [
    {
     "name": "stdout",
     "output_type": "stream",
     "text": [
      "3 -1 5\n",
      "-1\n"
     ]
    }
   ],
   "source": [
    "# 1064\n",
    "a,b,c = map(int, input().split())\n",
    "if(a<b):\n",
    "    if(a<c):\n",
    "        print(a)\n",
    "    else:\n",
    "        print(c)\n",
    "elif(b<c):\n",
    "    print(b)\n",
    "else:\n",
    "    print(c)"
   ]
  },
  {
   "cell_type": "code",
   "execution_count": 15,
   "metadata": {},
   "outputs": [
    {
     "name": "stdout",
     "output_type": "stream",
     "text": [
      "123445522 21 1\n",
      "even\n",
      "odd\n",
      "odd\n"
     ]
    }
   ],
   "source": [
    "# 1065\n",
    "a,b,c = map(int, input().split())\n",
    "d = [a,b,c]\n",
    "for i in d:\n",
    "    if(i%2 == 0):\n",
    "        print(\"even\")\n",
    "    else:\n",
    "        print(\"odd\")"
   ]
  },
  {
   "cell_type": "code",
   "execution_count": 3,
   "metadata": {},
   "outputs": [
    {
     "name": "stdout",
     "output_type": "stream",
     "text": [
      "8\n",
      "plus\n",
      "even\n"
     ]
    }
   ],
   "source": [
    "# 1067\n",
    "a = input()\n",
    "a = int(a)\n",
    "if(a>0):\n",
    "    print(\"plus\")\n",
    "    if(a%2 == 0):\n",
    "        print(\"even\")\n",
    "    else:\n",
    "        print(\"odd\")\n",
    "else:\n",
    "    print(\"minus\")\n",
    "    if(a%2 == 0):\n",
    "        print(\"even\")\n",
    "    else:\n",
    "        print(\"odd\")\n"
   ]
  },
  {
   "cell_type": "code",
   "execution_count": 4,
   "metadata": {},
   "outputs": [
    {
     "name": "stdout",
     "output_type": "stream",
     "text": [
      "80\n",
      "B\n"
     ]
    }
   ],
   "source": [
    "# 1068\n",
    "a = input()\n",
    "a = int(a)\n",
    "if(a>=90):\n",
    "    print(\"A\")\n",
    "elif(a>=70):\n",
    "    print(\"B\")\n",
    "elif(a>=40):\n",
    "    print(\"C\")\n",
    "else:\n",
    "    print(\"D\")"
   ]
  },
  {
   "cell_type": "code",
   "execution_count": 8,
   "metadata": {},
   "outputs": [
    {
     "name": "stdout",
     "output_type": "stream",
     "text": [
      "A\n",
      "best!!!\n"
     ]
    }
   ],
   "source": [
    "# 1069\n",
    "def switch(value):\n",
    "    return{\n",
    "        'A':'best!!!',\n",
    "        'B':'good!!',\n",
    "        'C':'run!',\n",
    "        'D':'slowly~'\n",
    "    }.get(value, 'what?')\n",
    "\n",
    "a = input()\n",
    "print(switch(a))"
   ]
  },
  {
   "cell_type": "code",
   "execution_count": 23,
   "metadata": {},
   "outputs": [
    {
     "name": "stdout",
     "output_type": "stream",
     "text": [
      "12\n",
      "winter\n"
     ]
    }
   ],
   "source": [
    "# 1070\n",
    "sp = [3,4,5]\n",
    "sm = [6,7,8]\n",
    "f = [9,10,11]\n",
    "#w = [12,1,2]\n",
    "\n",
    "a = input()\n",
    "a = int(a)\n",
    "if(a in sp):\n",
    "    print(\"spring\")\n",
    "elif(a in sm):\n",
    "    print(\"summer\")\n",
    "elif(a in f):\n",
    "    print(\"fall\")\n",
    "else:\n",
    "    print(\"winter\")"
   ]
  },
  {
   "cell_type": "code",
   "execution_count": 2,
   "metadata": {},
   "outputs": [
    {
     "name": "stdout",
     "output_type": "stream",
     "text": [
      "1 4 0 3\n",
      "1\n",
      "4\n"
     ]
    }
   ],
   "source": [
    "# 1071, 1073\n",
    "a = [int(x) for x in input().split()]\n",
    "i = 0\n",
    "while a[i] != 0:\n",
    "    print(a[i])\n",
    "    i = i+1"
   ]
  },
  {
   "cell_type": "code",
   "execution_count": 16,
   "metadata": {},
   "outputs": [
    {
     "name": "stdout",
     "output_type": "stream",
     "text": [
      "5\n",
      "1 2 3 4 5\n",
      "1\n",
      "2\n",
      "3\n",
      "4\n",
      "5\n"
     ]
    }
   ],
   "source": [
    "# 1072\n",
    "num = int(input())\n",
    "a = [int(x) for x in input().split()]\n",
    "i = 0\n",
    "while i != num :\n",
    "    print(a[i])\n",
    "    i = i+1"
   ]
  },
  {
   "cell_type": "code",
   "execution_count": 18,
   "metadata": {},
   "outputs": [
    {
     "name": "stdout",
     "output_type": "stream",
     "text": [
      "5\n",
      "5\n",
      "4\n",
      "3\n",
      "2\n",
      "1\n",
      "0\n"
     ]
    }
   ],
   "source": [
    "# 1074\n",
    "num = int(input())\n",
    "while num != 0:\n",
    "    print(num)\n",
    "    num = num-1"
   ]
  },
  {
   "cell_type": "code",
   "execution_count": 19,
   "metadata": {},
   "outputs": [
    {
     "name": "stdout",
     "output_type": "stream",
     "text": [
      "5\n",
      "4\n",
      "3\n",
      "2\n",
      "1\n",
      "0\n"
     ]
    }
   ],
   "source": [
    "# 1075\n",
    "num = int(input())\n",
    "while num != 0:\n",
    "    print(num-1)\n",
    "    num = num-1"
   ]
  },
  {
   "cell_type": "code",
   "execution_count": 23,
   "metadata": {},
   "outputs": [
    {
     "name": "stdout",
     "output_type": "stream",
     "text": [
      "b\n",
      "a b "
     ]
    }
   ],
   "source": [
    "# 1076\n",
    "x = ord(input())\n",
    "y = ord('a')\n",
    "\n",
    "while x >= y:\n",
    "    print(chr(y), end=' ')\n",
    "    y += 1"
   ]
  },
  {
   "cell_type": "code",
   "execution_count": 24,
   "metadata": {},
   "outputs": [
    {
     "name": "stdout",
     "output_type": "stream",
     "text": [
      "5\n",
      "0\n",
      "1\n",
      "2\n",
      "3\n",
      "4\n",
      "5\n"
     ]
    }
   ],
   "source": [
    "# 1077\n",
    "num = int(input())\n",
    "i = 0\n",
    "while num >= i:\n",
    "    print(i)\n",
    "    i += 1"
   ]
  },
  {
   "cell_type": "code",
   "execution_count": 28,
   "metadata": {},
   "outputs": [
    {
     "name": "stdout",
     "output_type": "stream",
     "text": [
      "5\n",
      "6\n"
     ]
    }
   ],
   "source": [
    "# 1078\n",
    "num = int(input())\n",
    "i = 0\n",
    "sum = 0\n",
    "while num >= i:\n",
    "    if(i%2 == 0):\n",
    "        sum += i\n",
    "    i += 1\n",
    "print(sum)"
   ]
  },
  {
   "cell_type": "code",
   "execution_count": 16,
   "metadata": {},
   "outputs": [
    {
     "name": "stdout",
     "output_type": "stream",
     "text": [
      "A b q e\n",
      "A\n",
      "b\n",
      "q\n"
     ]
    }
   ],
   "source": [
    "# 1079\n",
    "a = [ord(x) for x in input().split()]\n",
    "i = 0\n",
    "while chr(a[i])!= 'q':\n",
    "    print(chr(a[i]))\n",
    "    i += 1\n",
    "print(chr(a[i]))"
   ]
  },
  {
   "cell_type": "code",
   "execution_count": 34,
   "metadata": {},
   "outputs": [
    {
     "name": "stdout",
     "output_type": "stream",
     "text": [
      "36\n",
      "8\n"
     ]
    }
   ],
   "source": [
    "# 1080\n",
    "num = int(input())\n",
    "i = 0\n",
    "sum = 0\n",
    "while sum < num :\n",
    "    i += 1\n",
    "    sum += i\n",
    "print(i)"
   ]
  },
  {
   "cell_type": "code",
   "execution_count": 46,
   "metadata": {},
   "outputs": [
    {
     "name": "stdout",
     "output_type": "stream",
     "text": [
      "2 3\n",
      "1 1\n",
      "1 2\n",
      "1 3\n",
      "2 1\n",
      "2 2\n",
      "2 3\n"
     ]
    }
   ],
   "source": [
    "# 1081\n",
    "num1, num2 = map(int, input().split())\n",
    "for i in range (num1):\n",
    "    for j in range (num2):\n",
    "        print (i+1, j+1)"
   ]
  },
  {
   "cell_type": "code",
   "execution_count": 95,
   "metadata": {
    "scrolled": true
   },
   "outputs": [
    {
     "name": "stdout",
     "output_type": "stream",
     "text": [
      "B\n",
      "B*1=B\n",
      "B*2=16\n",
      "B*3=21\n",
      "B*4=2C\n",
      "B*5=37\n",
      "B*6=42\n",
      "B*7=4D\n",
      "B*8=58\n",
      "B*9=63\n",
      "B*A=6E\n",
      "B*B=79\n",
      "B*C=84\n",
      "B*D=8F\n",
      "B*E=9A\n",
      "B*F=A5\n"
     ]
    }
   ],
   "source": [
    "# 1082\n",
    "# a = int(input(),16)\n",
    "# print(\"{0:X}\".format(a))\n",
    "num = input()\n",
    "num_10 = int(num, 16)\n",
    "i = 1\n",
    "for i in range(15):\n",
    "    i = i+1\n",
    "    mul = num_10 * i\n",
    "    i_16 = format(i, 'X')\n",
    "    mul_16 = format(mul, 'X')\n",
    "    print(\"{}*{}={}\".format(num,i_16,mul_16))"
   ]
  },
  {
   "cell_type": "code",
   "execution_count": 101,
   "metadata": {},
   "outputs": [
    {
     "name": "stdout",
     "output_type": "stream",
     "text": [
      "3\n",
      "1 2 X "
     ]
    }
   ],
   "source": [
    "# 1083\n",
    "n = int(input())\n",
    "game = []\n",
    "for i in range(n):\n",
    "    i += 1\n",
    "    if(i%3 == 0):\n",
    "        game.append(\"X\")\n",
    "    else:\n",
    "        game.append(i)\n",
    "        \n",
    "for i in range(len(game)):\n",
    "    print(game[i], end=' ')"
   ]
  },
  {
   "cell_type": "code",
   "execution_count": null,
   "metadata": {},
   "outputs": [],
   "source": [
    "# 1084\n"
   ]
  }
 ],
 "metadata": {
  "kernelspec": {
   "display_name": "Python 3",
   "language": "python",
   "name": "python3"
  },
  "language_info": {
   "codemirror_mode": {
    "name": "ipython",
    "version": 3
   },
   "file_extension": ".py",
   "mimetype": "text/x-python",
   "name": "python",
   "nbconvert_exporter": "python",
   "pygments_lexer": "ipython3",
   "version": "3.9.0+"
  }
 },
 "nbformat": 4,
 "nbformat_minor": 2
}
